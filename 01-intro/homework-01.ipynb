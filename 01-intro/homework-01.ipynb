{
 "cells": [
  {
   "cell_type": "code",
   "execution_count": 2,
   "id": "49157edc-2dd2-45f4-be2e-f1da8660b9e9",
   "metadata": {},
   "outputs": [],
   "source": [
    "import google.generativeai as genai\n",
    "import PIL.Image\n",
    "import os\n",
    "\n",
    "genai.configure(api_key=os.environ[\"GOOGLE_API_KEY\"])\n",
    "model = genai.GenerativeModel(model_name=\"gemini-1.5-flash\")"
   ]
  },
  {
   "cell_type": "code",
   "execution_count": 3,
   "id": "382fa03a-e8d5-4756-a3a5-2166e1f005be",
   "metadata": {},
   "outputs": [],
   "source": [
    "import requests \n",
    "\n",
    "docs_url = 'https://github.com/DataTalksClub/llm-zoomcamp/blob/main/01-intro/documents.json?raw=1'\n",
    "docs_response = requests.get(docs_url)\n",
    "documents_raw = docs_response.json()\n",
    "\n",
    "documents = []\n",
    "\n",
    "for course in documents_raw:\n",
    "    course_name = course['course']\n",
    "\n",
    "    for doc in course['documents']:\n",
    "        doc['course'] = course_name\n",
    "        documents.append(doc)"
   ]
  },
  {
   "cell_type": "markdown",
   "id": "c5bc6ed0-97f3-4913-8143-01e0953dfdd8",
   "metadata": {},
   "source": [
    "## Q1. Running Elastic"
   ]
  },
  {
   "cell_type": "markdown",
   "id": "c5463ce9-b31f-48cb-9c79-bd12f5b37ab8",
   "metadata": {},
   "source": [
    "Run Elastic Search 8.4.3, and get the cluster information. If you run it on localhost, this is how you do it:\n",
    "\n",
    "What's the version.build_hash value?"
   ]
  },
  {
   "cell_type": "code",
   "execution_count": 4,
   "id": "59a9943b-2cd9-4ee5-8d4e-4cbb5debce84",
   "metadata": {},
   "outputs": [
    {
     "data": {
      "text/plain": [
       "ObjectApiResponse({'name': '34c9afb582a8', 'cluster_name': 'docker-cluster', 'cluster_uuid': 'BcS8e4WhTS23I6P9Bmd-rA', 'version': {'number': '8.4.3', 'build_flavor': 'default', 'build_type': 'docker', 'build_hash': '42f05b9372a9a4a470db3b52817899b99a76ee73', 'build_date': '2022-10-04T07:17:24.662462378Z', 'build_snapshot': False, 'lucene_version': '9.3.0', 'minimum_wire_compatibility_version': '7.17.0', 'minimum_index_compatibility_version': '7.0.0'}, 'tagline': 'You Know, for Search'})"
      ]
     },
     "execution_count": 4,
     "metadata": {},
     "output_type": "execute_result"
    }
   ],
   "source": [
    "from elasticsearch import Elasticsearch\n",
    "\n",
    "es = Elasticsearch(\"http://localhost:9200\")\n",
    "es.info()"
   ]
  },
  {
   "cell_type": "markdown",
   "id": "d18981ff-68df-4636-b63b-2560de832fc5",
   "metadata": {},
   "source": [
    "## Q2. Indexing the data"
   ]
  },
  {
   "cell_type": "markdown",
   "id": "6f4da095-a909-4a78-aa8d-eb3edf3c8580",
   "metadata": {},
   "source": [
    "Index the data in the same way as was shown in the course videos. Make the course field a keyword and the rest should be text.\n",
    "\n",
    "Which function do you use for adding your data to elastic?\n",
    "\n",
    "- insert\n",
    "- index\n",
    "- put\n",
    "- add"
   ]
  },
  {
   "cell_type": "code",
   "execution_count": 5,
   "id": "f9451225-af5d-48da-8353-be70971fe0e2",
   "metadata": {},
   "outputs": [
    {
     "data": {
      "text/plain": [
       "ObjectApiResponse({'acknowledged': True, 'shards_acknowledged': True, 'index': 'course-questions'})"
      ]
     },
     "execution_count": 5,
     "metadata": {},
     "output_type": "execute_result"
    }
   ],
   "source": [
    "index_settings = {\n",
    "    \"settings\": {\n",
    "        \"number_of_shards\": 1,\n",
    "        \"number_of_replicas\": 0\n",
    "    },\n",
    "    \"mappings\": {\n",
    "        \"properties\": {\n",
    "            \"text\": {\"type\": \"text\"},\n",
    "            \"section\": {\"type\": \"text\"},\n",
    "            \"question\": {\"type\": \"text\"},\n",
    "            \"course\": {\"type\": \"keyword\"} \n",
    "        }\n",
    "    }\n",
    "}\n",
    "\n",
    "index_name = \"course-questions\"\n",
    "response = es.indices.create(index=index_name, body=index_settings)\n",
    "\n",
    "response"
   ]
  },
  {
   "cell_type": "code",
   "execution_count": 6,
   "id": "8dd8e3a2-f144-4c62-b076-6a191b55be22",
   "metadata": {},
   "outputs": [
    {
     "name": "stderr",
     "output_type": "stream",
     "text": [
      "100%|████████████████████████████████████████████████████████████████████| 948/948 [00:29<00:00, 31.75it/s]\n"
     ]
    }
   ],
   "source": [
    "from tqdm.auto import tqdm\n",
    "\n",
    "for doc in tqdm(documents):\n",
    "    es.index(index=index_name, document=doc)"
   ]
  },
  {
   "cell_type": "markdown",
   "id": "b6cefcd0-6426-496e-b5de-9c8746899b61",
   "metadata": {},
   "source": [
    "## Q3. Searching"
   ]
  },
  {
   "cell_type": "markdown",
   "id": "7fc19a0f-c2a6-4f5b-9736-043d30ef2034",
   "metadata": {},
   "source": [
    "Now let's search in our index.\n",
    "\n",
    "We will execute a query \"How do I execute a command in a running docker container?\".\n",
    "\n",
    "Use only question and text fields and give question a boost of 4, and use \"type\": \"best_fields\".\n",
    "\n",
    "What's the score for the top ranking result?\n",
    "\n",
    "- 94.05\n",
    "- 84.05\n",
    "- 74.05\n",
    "- 64.05\n",
    "  \n",
    "Look at the _score field."
   ]
  },
  {
   "cell_type": "code",
   "execution_count": 28,
   "id": "6f7b9dee-a778-44df-b3a7-e0b4947b8c2e",
   "metadata": {},
   "outputs": [],
   "source": [
    "user_question = \"How do I execute a command in a running docker container?\"\n",
    "\n",
    "search_query = {\n",
    "    \"size\": 5,\n",
    "    \"query\": {\n",
    "        \"bool\": {\n",
    "            \"must\": {\n",
    "                \"multi_match\": {\n",
    "                    \"query\": user_question,\n",
    "                    \"fields\": [\"question^4\", \"text\"],\n",
    "                    \"type\": \"best_fields\"\n",
    "                }\n",
    "            }\n",
    "        }\n",
    "    }\n",
    "}"
   ]
  },
  {
   "cell_type": "code",
   "execution_count": 30,
   "id": "73929372-9a75-4a60-b7f2-4b0043bb579e",
   "metadata": {},
   "outputs": [
    {
     "name": "stdout",
     "output_type": "stream",
     "text": [
      "84.050095\n",
      "75.54128\n",
      "72.08518\n",
      "51.04628\n",
      "49.938507\n"
     ]
    }
   ],
   "source": [
    "response = es.search(index=index_name, body=search_query)\n",
    "\n",
    "for hit in response['hits']['hits']:\n",
    "    score = hit['_score']\n",
    "    print(score)"
   ]
  },
  {
   "cell_type": "markdown",
   "id": "e5f4219d-262a-48ac-9970-565e5f5cc694",
   "metadata": {},
   "source": [
    "## Q4. Filtering"
   ]
  },
  {
   "cell_type": "markdown",
   "id": "3dd30036-1e3b-4889-9f88-9117d2bc9f15",
   "metadata": {},
   "source": [
    "Now let's only limit the questions to machine-learning-zoomcamp.\n",
    "\n",
    "Return 3 results. What's the 3rd question returned by the search engine?\n",
    "\n",
    "- How do I debug a docker container?\n",
    "- How do I copy files from a different folder into docker container’s working directory?\n",
    "- How do Lambda container images work?\n",
    "- How can I annotate a graph?"
   ]
  },
  {
   "cell_type": "code",
   "execution_count": 46,
   "id": "32a0edec-0b5b-4f83-ae29-cf8decf4a5c9",
   "metadata": {},
   "outputs": [],
   "source": [
    "user_question = \"How do I execute a command in a running docker container?\"\n",
    "\n",
    "search_query = {\n",
    "    \"size\": 3,\n",
    "    \"query\": {\n",
    "        \"bool\": {\n",
    "            \"must\": {\n",
    "                \"multi_match\": {\n",
    "                    \"query\": user_question,\n",
    "                    \"fields\": [\"question^4\", \"text\"],\n",
    "                    \"type\": \"best_fields\"\n",
    "                }\n",
    "            },\n",
    "            \"filter\": {\n",
    "                \"term\": {\n",
    "                    \"course\": \"machine-learning-zoomcamp\"\n",
    "                }\n",
    "            }\n",
    "        }\n",
    "    }\n",
    "}"
   ]
  },
  {
   "cell_type": "code",
   "execution_count": 47,
   "id": "4818e4f9-2d0f-45d6-ae8e-36820d9bce8c",
   "metadata": {},
   "outputs": [
    {
     "name": "stdout",
     "output_type": "stream",
     "text": [
      "Section: 5. Deploying Machine Learning Models\n",
      "Question: How do I debug a docker container?\n",
      "Answer: Launch the container image in interactive mode and overriding the entrypoint, so that it starts a bash command.\n",
      "docker run -it --entrypoint bash <image>\n",
      "If the container is already running, execute a ...\n",
      "\n",
      "Section: 5. Deploying Machine Learning Models\n",
      "Question: How do I copy files from my local machine to docker container?\n",
      "Answer: You can copy files from your local machine into a Docker container using the docker cp command. Here's how to do it:\n",
      "To copy a file or directory from your local machine into a running Docker container...\n",
      "\n",
      "Section: 5. Deploying Machine Learning Models\n",
      "Question: How do I copy files from a different folder into docker container’s working directory?\n",
      "Answer: You can copy files from your local machine into a Docker container using the docker cp command. Here's how to do it:\n",
      "In the Dockerfile, you can provide the folder containing the files that you want to...\n",
      "\n"
     ]
    }
   ],
   "source": [
    "response = es.search(index=index_name, body=search_query)\n",
    "\n",
    "for hit in response['hits']['hits']:\n",
    "    doc = hit['_source']\n",
    "    print(f\"Section: {doc['section']}\")\n",
    "    print(f\"Question: {doc['question']}\")\n",
    "    print(f\"Answer: {doc['text'][:200]}...\\n\")"
   ]
  },
  {
   "cell_type": "markdown",
   "id": "e8be93ed-572a-4adf-9f5c-d1ef13335773",
   "metadata": {},
   "source": [
    "## Q5. Building a prompt"
   ]
  },
  {
   "cell_type": "markdown",
   "id": "a47a9b1f-84f6-42dc-8e9e-25ba839b1b22",
   "metadata": {},
   "source": [
    "Now we're ready to build a prompt to send to an LLM.\n",
    "\n",
    "Take the records returned from Elasticsearch in Q4 and use this template to build the context. Separate context entries by two linebreaks (\\n\\n)"
   ]
  },
  {
   "cell_type": "code",
   "execution_count": 48,
   "id": "61a5e555-6b94-42ce-8229-0546f4c05da4",
   "metadata": {},
   "outputs": [],
   "source": [
    "context_template = \"\"\"\n",
    "Q: {question}\n",
    "A: {text}\n",
    "\"\"\".strip()"
   ]
  },
  {
   "cell_type": "markdown",
   "id": "40987a54-9b57-43da-bf2a-38f352051052",
   "metadata": {},
   "source": [
    "Now use the context you just created along with the \"How do I execute a command in a running docker container?\" question to construct a prompt using the template below:"
   ]
  },
  {
   "cell_type": "code",
   "execution_count": 49,
   "id": "dbfa6d8f-f4af-4770-bde8-cd2aa989b340",
   "metadata": {},
   "outputs": [],
   "source": [
    "prompt_template = \"\"\"\n",
    "You're a course teaching assistant. Answer the QUESTION based on the CONTEXT from the FAQ database.\n",
    "Use only the facts from the CONTEXT when answering the QUESTION.\n",
    "\n",
    "QUESTION: {question}\n",
    "\n",
    "CONTEXT:\n",
    "{context}\n",
    "\"\"\".strip()"
   ]
  },
  {
   "cell_type": "markdown",
   "id": "7b642091-3242-4115-9d10-fea182459f9b",
   "metadata": {},
   "source": [
    "What's the length of the resulting prompt? (use the len function)\n",
    "\n",
    "- 962\n",
    "- 1462\n",
    "- 1962\n",
    "- 2462"
   ]
  },
  {
   "cell_type": "code",
   "execution_count": 52,
   "id": "eab4f085-0b14-47d1-981b-5afbb109c8af",
   "metadata": {},
   "outputs": [],
   "source": [
    "context_docs = [hit['_source'] for hit in response['hits']['hits']]\n",
    "\n",
    "context_result = \"\"\n",
    "\n",
    "for doc in context_docs:\n",
    "    doc_str = context_template.format(**doc)\n",
    "    context_result += (\"\\n\\n\" + doc_str)\n",
    "\n",
    "context = context_result.strip()\n",
    "\n",
    "question = \"How do I execute a command in a running docker container?\"\n",
    "\n",
    "prompt = f\"\"\"\n",
    "You're a course teaching assistant. Answer the QUESTION based on the CONTEXT from the FAQ database.\n",
    "Use only the facts from the CONTEXT when answering the QUESTION.\n",
    "\n",
    "QUESTION: {question}\n",
    "\n",
    "CONTEXT:\n",
    "{context}\n",
    "\"\"\".strip()"
   ]
  },
  {
   "cell_type": "code",
   "execution_count": 53,
   "id": "df249f83-19d6-4ae1-ae31-bcde981314d7",
   "metadata": {},
   "outputs": [
    {
     "data": {
      "text/plain": [
       "1462"
      ]
     },
     "execution_count": 53,
     "metadata": {},
     "output_type": "execute_result"
    }
   ],
   "source": [
    "len(prompt)"
   ]
  },
  {
   "cell_type": "markdown",
   "id": "3e4be804-ec16-4320-9968-e278c6ca88ad",
   "metadata": {},
   "source": [
    "## Q6. Tokens"
   ]
  },
  {
   "cell_type": "markdown",
   "id": "6d4fc092-d0e8-41f6-84d6-46bbd4375f4d",
   "metadata": {},
   "source": [
    "When we use the OpenAI Platform, we're charged by the number of tokens we send in our prompt and receive in the response.\n",
    "\n",
    "The OpenAI python package uses tiktoken for tokenization:"
   ]
  },
  {
   "cell_type": "code",
   "execution_count": 56,
   "id": "4269ed36-27a1-4477-a0a4-f6952858233f",
   "metadata": {},
   "outputs": [],
   "source": [
    "import tiktoken"
   ]
  },
  {
   "cell_type": "markdown",
   "id": "0cd1e92c-fd06-47ce-a934-f5b12599a06e",
   "metadata": {},
   "source": [
    "Let's calculate the number of tokens in our query:"
   ]
  },
  {
   "cell_type": "code",
   "execution_count": 60,
   "id": "c5f6bf3f-da75-4b2c-a9e6-fc7243509d8d",
   "metadata": {},
   "outputs": [],
   "source": [
    "encoding = tiktoken.encoding_for_model(\"gpt-4o\")"
   ]
  },
  {
   "cell_type": "markdown",
   "id": "6c53a80d-2320-4902-b279-d6fc2ec8f908",
   "metadata": {},
   "source": [
    "Use the encode function. How many tokens does our prompt have?\n",
    "\n",
    "- 122\n",
    "- 222\n",
    "- 322\n",
    "- 422\n",
    "\n",
    "Note: to decode back a token into a word, you can use the decode_single_token_bytes function:"
   ]
  },
  {
   "cell_type": "code",
   "execution_count": 62,
   "id": "8dc952f3-afcd-4dcc-a0d6-5981b58dbd5a",
   "metadata": {},
   "outputs": [],
   "source": [
    "prompt_encoding = encoding.encode(prompt)"
   ]
  },
  {
   "cell_type": "code",
   "execution_count": 63,
   "id": "723cc1ba-12d4-4c74-a66c-b88b045b28ca",
   "metadata": {},
   "outputs": [
    {
     "data": {
      "text/plain": [
       "322"
      ]
     },
     "execution_count": 63,
     "metadata": {},
     "output_type": "execute_result"
    }
   ],
   "source": [
    "len(prompt_encoding)"
   ]
  },
  {
   "cell_type": "code",
   "execution_count": 65,
   "id": "4655dd60-3d6b-42c8-9321-d5c941e092f3",
   "metadata": {},
   "outputs": [
    {
     "data": {
      "text/plain": [
       "b\"You're\""
      ]
     },
     "execution_count": 65,
     "metadata": {},
     "output_type": "execute_result"
    }
   ],
   "source": [
    "encoding.decode_single_token_bytes(prompt_encoding[0])"
   ]
  },
  {
   "cell_type": "code",
   "execution_count": 66,
   "id": "57e1d83f-3e58-43c2-a5b1-a669c32c897d",
   "metadata": {},
   "outputs": [
    {
     "name": "stdout",
     "output_type": "stream",
     "text": [
      "To execute a command in a running docker container, you can use the `docker exec` command. First, you need to find the container ID using the `docker ps` command. Then, execute `docker exec -it <container-id> bash`. \n",
      "\n"
     ]
    }
   ],
   "source": [
    "response = model.generate_content(prompt)\n",
    "print(response.text)"
   ]
  }
 ],
 "metadata": {
  "kernelspec": {
   "display_name": "Python 3 (ipykernel)",
   "language": "python",
   "name": "python3"
  },
  "language_info": {
   "codemirror_mode": {
    "name": "ipython",
    "version": 3
   },
   "file_extension": ".py",
   "mimetype": "text/x-python",
   "name": "python",
   "nbconvert_exporter": "python",
   "pygments_lexer": "ipython3",
   "version": "3.10.13"
  }
 },
 "nbformat": 4,
 "nbformat_minor": 5
}
